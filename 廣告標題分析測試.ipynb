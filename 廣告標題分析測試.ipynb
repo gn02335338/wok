{
 "cells": [
  {
   "cell_type": "markdown",
   "metadata": {},
   "source": [
    "#廣告標題測試 by LSI模型  \n",
    "##以下純為分析，與選舉政治無關"
   ]
  },
  {
   "cell_type": "code",
   "execution_count": 5,
   "metadata": {},
   "outputs": [],
   "source": [
    "import gensim\n",
    "from gensim import corpora,models,similarities,utils\n",
    "import jieba\n",
    "import jieba.posseg as pseg\n",
    "import csv\n",
    "import pandas as pd"
   ]
  },
  {
   "cell_type": "markdown",
   "metadata": {},
   "source": [
    "原廣告內容為  \n",
    "廣告標題:正義召喚善良的你!11/24站出來  \n",
    "廣告內文:一個人的善良無從自保  \n",
    "廣告描述:新北市長選舉-侯友宜  \n",
    "由於標題幾乎沒有關鍵字，故將所有內容皆放進去，並增加了一些當下比較流行的政治關鍵字"
   ]
  },
  {
   "cell_type": "code",
   "execution_count": 2,
   "metadata": {},
   "outputs": [],
   "source": [
    "ad_title = '一個人的善良無從自保 正義召喚善良的你!11/24站出來 新北市長選舉-侯友宜 政治 韓國瑜 柯P 柯文哲 蘇貞昌 丁守中 姚文智 藍營 綠營 國民黨 民進黨 館長 高家瑜 陳其邁 賴清德 陳菊 選戰'"
   ]
  },
  {
   "cell_type": "code",
   "execution_count": 3,
   "metadata": {},
   "outputs": [],
   "source": [
    "#載入停用字\n",
    "with open('/Users/jack/Desktop/LDA/stopword.txt', encoding='utf-8') as f:\n",
    "    stop_word_list = f.readlines()\n",
    "    \n",
    "stop_word_list = [x.strip() for x in stop_word_list]"
   ]
  },
  {
   "cell_type": "code",
   "execution_count": null,
   "metadata": {},
   "outputs": [],
   "source": [
    "#分析部分\n",
    "analysis_list = [ad_title, data_title]\n",
    "        lsi_sims_result = []\n",
    "        texts_list = []\n",
    "        for i in analysis_list:\n",
    "            tokens = jieba.cut(i,cut_all=False,HMM=True)\n",
    "            stopped_tokens = [i for i in tokens if not i in stop_word_list]\n",
    "            texts_list.append(stopped_tokens)    \n",
    "\n",
    "            # 重建tfidf model\n",
    "            dictionary = corpora.Dictionary(texts_list)\n",
    "            corpus = [dictionary.doc2bow(text) for text in texts_list]\n",
    "            tfidfModel = models.TfidfModel(corpus)\n",
    "            # 轉為向量表示\n",
    "            tfidfVectors = tfidfModel[corpus]\n",
    "\n",
    "            #建立lsi model\n",
    "            lsi_model = models.LsiModel(tfidfVectors, id2word=dictionary, num_topics=1)\n",
    "\n",
    "            # 建立索引\n",
    "            indexLSI = similarities.MatrixSimilarity(lsi_model[corpus])\n",
    "\n",
    "            sims = indexLSI[lsi_model[dictionary.doc2bow(texts for texts in data_title)]]\n",
    "            "
   ]
  },
  {
   "cell_type": "markdown",
   "metadata": {},
   "source": [
    "推播條件：若相關性大於0.8則推播，若相關性未達則隨機推播(50%機率)"
   ]
  },
  {
   "cell_type": "code",
   "execution_count": null,
   "metadata": {},
   "outputs": [],
   "source": [
    "if sims[0] >= 0.8:\n",
    "    ad_switch = True\n",
    "else:\n",
    "    random_ad = random.uniform(0, 1)\n",
    "    if random_ad > 0.5:\n",
    "        ad_switch = True\n",
    "    else:\n",
    "        ad_switch = False"
   ]
  },
  {
   "cell_type": "markdown",
   "metadata": {},
   "source": [
    "#結果："
   ]
  },
  {
   "cell_type": "code",
   "execution_count": 9,
   "metadata": {},
   "outputs": [
    {
     "data": {
      "text/html": [
       "<div>\n",
       "<style scoped>\n",
       "    .dataframe tbody tr th:only-of-type {\n",
       "        vertical-align: middle;\n",
       "    }\n",
       "\n",
       "    .dataframe tbody tr th {\n",
       "        vertical-align: top;\n",
       "    }\n",
       "\n",
       "    .dataframe thead th {\n",
       "        text-align: right;\n",
       "    }\n",
       "</style>\n",
       "<table border=\"1\" class=\"dataframe\">\n",
       "  <thead>\n",
       "    <tr style=\"text-align: right;\">\n",
       "      <th></th>\n",
       "      <th>新聞標題</th>\n",
       "      <th>相關性</th>\n",
       "    </tr>\n",
       "  </thead>\n",
       "  <tbody>\n",
       "    <tr>\n",
       "      <th>0</th>\n",
       "      <td>錯愕！35萬人假帳號明星也被唬 林依晨本人IG是這個</td>\n",
       "      <td>0.0</td>\n",
       "    </tr>\n",
       "    <tr>\n",
       "      <th>1</th>\n",
       "      <td>NBA／豪神！林書豪狂奪26分本季新高 老鷹依舊慢飛</td>\n",
       "      <td>0.0</td>\n",
       "    </tr>\n",
       "    <tr>\n",
       "      <th>2</th>\n",
       "      <td>以房養老已近3千件 公股行庫占9成 建議貸款期限至50年</td>\n",
       "      <td>0.0</td>\n",
       "    </tr>\n",
       "    <tr>\n",
       "      <th>3</th>\n",
       "      <td>管中閔透露選後考量：我其實已經看到選舉結果</td>\n",
       "      <td>0.0</td>\n",
       "    </tr>\n",
       "    <tr>\n",
       "      <th>4</th>\n",
       "      <td>神對比！館長助選柯P、姚文智嗆高家瑜 人渣文本：草包</td>\n",
       "      <td>0.0</td>\n",
       "    </tr>\n",
       "  </tbody>\n",
       "</table>\n",
       "</div>"
      ],
      "text/plain": [
       "                           新聞標題  相關性\n",
       "0   錯愕！35萬人假帳號明星也被唬 林依晨本人IG是這個   0.0\n",
       "1    NBA／豪神！林書豪狂奪26分本季新高 老鷹依舊慢飛  0.0\n",
       "2  以房養老已近3千件 公股行庫占9成 建議貸款期限至50年  0.0\n",
       "3         管中閔透露選後考量：我其實已經看到選舉結果  0.0\n",
       "4    神對比！館長助選柯P、姚文智嗆高家瑜 人渣文本：草包  0.0"
      ]
     },
     "execution_count": 9,
     "metadata": {},
     "output_type": "execute_result"
    }
   ],
   "source": [
    "#載入整理好之記錄\n",
    "result = pd.read_csv('analysis_record.csv')\n",
    "result.head()"
   ]
  },
  {
   "cell_type": "code",
   "execution_count": 14,
   "metadata": {},
   "outputs": [
    {
     "data": {
      "text/html": [
       "<div>\n",
       "<style scoped>\n",
       "    .dataframe tbody tr th:only-of-type {\n",
       "        vertical-align: middle;\n",
       "    }\n",
       "\n",
       "    .dataframe tbody tr th {\n",
       "        vertical-align: top;\n",
       "    }\n",
       "\n",
       "    .dataframe thead th {\n",
       "        text-align: right;\n",
       "    }\n",
       "</style>\n",
       "<table border=\"1\" class=\"dataframe\">\n",
       "  <thead>\n",
       "    <tr style=\"text-align: right;\">\n",
       "      <th></th>\n",
       "      <th>新聞標題</th>\n",
       "      <th>相關性</th>\n",
       "    </tr>\n",
       "  </thead>\n",
       "  <tbody>\n",
       "    <tr>\n",
       "      <th>57</th>\n",
       "      <td>「神秘嘉賓」周美青站台？馬英九：她今年都不參加活動</td>\n",
       "      <td>1.0</td>\n",
       "    </tr>\n",
       "    <tr>\n",
       "      <th>60</th>\n",
       "      <td>影／與人民站在一起 韓國瑜選前之夜不邀大咖上台造勢</td>\n",
       "      <td>1.0</td>\n",
       "    </tr>\n",
       "    <tr>\n",
       "      <th>63</th>\n",
       "      <td>韓國瑜因「護唇膏黏黏的」辯論失常？ 余天傻眼：牽拖啦</td>\n",
       "      <td>1.0</td>\n",
       "    </tr>\n",
       "    <tr>\n",
       "      <th>89</th>\n",
       "      <td>配合選舉！台鐵周末開放花東新自強號站票</td>\n",
       "      <td>1.0</td>\n",
       "    </tr>\n",
       "    <tr>\n",
       "      <th>101</th>\n",
       "      <td>NOW晚報／姚文智當眾公審 高嘉瑜「8字回應」網友心疼</td>\n",
       "      <td>1.0</td>\n",
       "    </tr>\n",
       "    <tr>\n",
       "      <th>115</th>\n",
       "      <td>兵分三路 韓國瑜與妻女分身掃街拉票</td>\n",
       "      <td>1.0</td>\n",
       "    </tr>\n",
       "    <tr>\n",
       "      <th>140</th>\n",
       "      <td>韓國瑜選前感性直播！「神秘嘉賓」現身 瞬間擠破7萬粉</td>\n",
       "      <td>1.0</td>\n",
       "    </tr>\n",
       "    <tr>\n",
       "      <th>146</th>\n",
       "      <td>房市／大湳轉運站將動工 活絡桃園八德房市</td>\n",
       "      <td>1.0</td>\n",
       "    </tr>\n",
       "    <tr>\n",
       "      <th>149</th>\n",
       "      <td>影／撞臉韓星…高嘉瑜13年前「青澀片」曝光 腰身被讚翻</td>\n",
       "      <td>1.0</td>\n",
       "    </tr>\n",
       "    <tr>\n",
       "      <th>166</th>\n",
       "      <td>林夕批評韓國瑜政見空泛 韓冰化身DJ點播一首「紅豆」</td>\n",
       "      <td>1.0</td>\n",
       "    </tr>\n",
       "    <tr>\n",
       "      <th>174</th>\n",
       "      <td>韓國瑜深夜直播…揪韓粉談心 「這禮物」讓他好感動</td>\n",
       "      <td>1.0</td>\n",
       "    </tr>\n",
       "    <tr>\n",
       "      <th>176</th>\n",
       "      <td>人渣文本再批姚「氣量小」！高嘉瑜神回覆：他眼裡只有我</td>\n",
       "      <td>1.0</td>\n",
       "    </tr>\n",
       "  </tbody>\n",
       "</table>\n",
       "</div>"
      ],
      "text/plain": [
       "                            新聞標題  相關性\n",
       "57     「神秘嘉賓」周美青站台？馬英九：她今年都不參加活動  1.0\n",
       "60     影／與人民站在一起 韓國瑜選前之夜不邀大咖上台造勢  1.0\n",
       "63    韓國瑜因「護唇膏黏黏的」辯論失常？ 余天傻眼：牽拖啦  1.0\n",
       "89           配合選舉！台鐵周末開放花東新自強號站票  1.0\n",
       "101  NOW晚報／姚文智當眾公審 高嘉瑜「8字回應」網友心疼  1.0\n",
       "115            兵分三路 韓國瑜與妻女分身掃街拉票  1.0\n",
       "140   韓國瑜選前感性直播！「神秘嘉賓」現身 瞬間擠破7萬粉  1.0\n",
       "146         房市／大湳轉運站將動工 活絡桃園八德房市  1.0\n",
       "149  影／撞臉韓星…高嘉瑜13年前「青澀片」曝光 腰身被讚翻  1.0\n",
       "166   林夕批評韓國瑜政見空泛 韓冰化身DJ點播一首「紅豆」  1.0\n",
       "174     韓國瑜深夜直播…揪韓粉談心 「這禮物」讓他好感動  1.0\n",
       "176   人渣文本再批姚「氣量小」！高嘉瑜神回覆：他眼裡只有我  1.0"
      ]
     },
     "execution_count": 14,
     "metadata": {},
     "output_type": "execute_result"
    }
   ],
   "source": [
    "#有過標準之標題\n",
    "result[result['相關性'] >0.8]"
   ]
  },
  {
   "cell_type": "code",
   "execution_count": 15,
   "metadata": {},
   "outputs": [
    {
     "data": {
      "text/plain": [
       "0.057692307692307696"
      ]
     },
     "execution_count": 15,
     "metadata": {},
     "output_type": "execute_result"
    }
   ],
   "source": [
    "#計算過標準率\n",
    "len(result[result['相關性'] >0.8])/len(result)"
   ]
  },
  {
   "cell_type": "markdown",
   "metadata": {},
   "source": [
    "##約5~6%之新聞通過LSI模型篩選  \n",
    "最終獲得4367之點擊數(約一天時間)"
   ]
  }
 ],
 "metadata": {
  "kernelspec": {
   "display_name": "Python 3",
   "language": "python",
   "name": "python3"
  },
  "language_info": {
   "codemirror_mode": {
    "name": "ipython",
    "version": 3
   },
   "file_extension": ".py",
   "mimetype": "text/x-python",
   "name": "python",
   "nbconvert_exporter": "python",
   "pygments_lexer": "ipython3",
   "version": "3.7.0"
  }
 },
 "nbformat": 4,
 "nbformat_minor": 2
}
